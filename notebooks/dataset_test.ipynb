{
 "cells": [
  {
   "cell_type": "code",
   "execution_count": 9,
   "metadata": {},
   "outputs": [],
   "source": [
    "import os\n",
    "\n"
   ]
  },
  {
   "cell_type": "code",
   "execution_count": 10,
   "metadata": {},
   "outputs": [],
   "source": [
    "# Definir rutas\n",
    "train_dir = \"../data/ZhangLabData/CellData/OCT/train\"\n",
    "test_dir = \"../data/ZhangLabData/CellData/OCT/test\"\n",
    "\n",
    "# Categorías\n",
    "categories = [\"CNV\", \"DME\", \"DRUSEN\", \"NORMAL\"]"
   ]
  },
  {
   "cell_type": "code",
   "execution_count": 11,
   "metadata": {},
   "outputs": [],
   "source": [
    "def count_images_in_directory(base_dir, categories):\n",
    "    \"\"\"Cuenta la cantidad de imágenes por categoría en un directorio.\"\"\"\n",
    "    counts = {category: len(os.listdir(os.path.join(base_dir, category))) for category in categories}\n",
    "    return counts"
   ]
  },
  {
   "cell_type": "code",
   "execution_count": 12,
   "metadata": {},
   "outputs": [
    {
     "name": "stdout",
     "output_type": "stream",
     "text": [
      "🔹 **Conteo de imágenes en Train:**\n",
      "   CNV: 37205\n",
      "   DME: 11348\n",
      "   DRUSEN: 8616\n",
      "   NORMAL: 51140\n",
      "\n",
      "🔹 **Conteo de imágenes en Test:**\n",
      "   CNV: 250\n",
      "   DME: 250\n",
      "   DRUSEN: 250\n",
      "   NORMAL: 250\n",
      "\n",
      "🔹 **Total de imágenes por categoría:**\n",
      "   CNV: 37455\n",
      "   DME: 11598\n",
      "   DRUSEN: 8866\n",
      "   NORMAL: 51390\n",
      "\n",
      "🔹 **Total general de imágenes:** 109309\n"
     ]
    }
   ],
   "source": [
    "\n",
    "# Contar imágenes en cada conjunto\n",
    "train_counts = count_images_in_directory(train_dir, categories)\n",
    "test_counts = count_images_in_directory(test_dir, categories)\n",
    "\n",
    "# Calcular total de imágenes por categoría\n",
    "total_counts = {category: train_counts[category] + test_counts[category] for category in categories}\n",
    "\n",
    "# Imprimir resultados\n",
    "print(\"🔹 **Conteo de imágenes en Train:**\")\n",
    "for category, count in train_counts.items():\n",
    "    print(f\"   {category}: {count}\")\n",
    "\n",
    "print(\"\\n🔹 **Conteo de imágenes en Test:**\")\n",
    "for category, count in test_counts.items():\n",
    "    print(f\"   {category}: {count}\")\n",
    "\n",
    "print(\"\\n🔹 **Total de imágenes por categoría:**\")\n",
    "for category, count in total_counts.items():\n",
    "    print(f\"   {category}: {count}\")\n",
    "\n",
    "print(f\"\\n🔹 **Total general de imágenes:** {sum(total_counts.values())}\")\n"
   ]
  }
 ],
 "metadata": {
  "kernelspec": {
   "display_name": "keras_env",
   "language": "python",
   "name": "python3"
  },
  "language_info": {
   "codemirror_mode": {
    "name": "ipython",
    "version": 3
   },
   "file_extension": ".py",
   "mimetype": "text/x-python",
   "name": "python",
   "nbconvert_exporter": "python",
   "pygments_lexer": "ipython3",
   "version": "3.8.18"
  }
 },
 "nbformat": 4,
 "nbformat_minor": 2
}
