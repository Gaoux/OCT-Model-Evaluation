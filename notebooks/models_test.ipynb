{
 "cells": [
  {
   "cell_type": "code",
   "execution_count": 63,
   "metadata": {},
   "outputs": [],
   "source": [
    "import tensorflow as tf\n",
    "from tensorflow.keras.models import load_model\n",
    "import numpy as np\n",
    "from tensorflow.keras.optimizers import Adam\n",
    "import matplotlib.pyplot as plt\n",
    "import os\n",
    "import cv2\n",
    "import seaborn as sns\n",
    "import json\n",
    "from sklearn.metrics import (\n",
    "    accuracy_score,\n",
    "    precision_score,\n",
    "    recall_score,\n",
    "    f1_score,\n",
    "    classification_report,\n",
    "    confusion_matrix\n",
    ")"
   ]
  },
  {
   "cell_type": "markdown",
   "metadata": {},
   "source": [
    "**Dataste Citation:** Kermany D, Goldbaum M, Cai W et al. Identifying Medical Diagnoses and Treatable Diseases by Image-Based Deep Learning. Cell. 2018; 172(5):1122-1131. doi:10.1016/j.cell.2018.02.010."
   ]
  },
  {
   "cell_type": "markdown",
   "metadata": {},
   "source": [
    "## Load models"
   ]
  },
  {
   "cell_type": "markdown",
   "metadata": {},
   "source": [
    "Models from:\n",
    "\n",
    "#### Model 1 \n",
    "  - https://www.kaggle.com/code/mohamedgobara/96-1-in-retinal-oct-cnn-model\n",
    "\n"
   ]
  },
  {
   "cell_type": "code",
   "execution_count": 43,
   "metadata": {},
   "outputs": [
    {
     "name": "stdout",
     "output_type": "stream",
     "text": [
      "Model 1 Summary:\n",
      "Model: \"sequential\"\n",
      "_________________________________________________________________\n",
      " Layer (type)                Output Shape              Param #   \n",
      "=================================================================\n",
      " xception (Functional)       (None, 2048)              20861480  \n",
      "                                                                 \n",
      " flatten (Flatten)           (None, 2048)              0         \n",
      "                                                                 \n",
      " dropout (Dropout)           (None, 2048)              0         \n",
      "                                                                 \n",
      " dense (Dense)               (None, 128)               262272    \n",
      "                                                                 \n",
      " dropout_1 (Dropout)         (None, 128)               0         \n",
      "                                                                 \n",
      " dense_1 (Dense)             (None, 4)                 516       \n",
      "                                                                 \n",
      "=================================================================\n",
      "Total params: 21,124,268\n",
      "Trainable params: 21,069,740\n",
      "Non-trainable params: 54,528\n",
      "_________________________________________________________________\n",
      "None\n"
     ]
    }
   ],
   "source": [
    "# Load model1 (full Keras model with architecture + weights)\n",
    "model_path1 = \"../models/Retinal_Model.h5\"\n",
    "model1 = load_model(model_path1, compile=False)\n",
    "\n",
    "# Print summaries\n",
    "print(\"Model 1 Summary:\")\n",
    "print(model1.summary())"
   ]
  },
  {
   "cell_type": "markdown",
   "metadata": {},
   "source": [
    "#### Model 2\n",
    "  - https://www.kaggle.com/code/arbazkhan971/retina-damage-classification-95-accuracy/output"
   ]
  },
  {
   "cell_type": "code",
   "execution_count": 47,
   "metadata": {},
   "outputs": [
    {
     "name": "stdout",
     "output_type": "stream",
     "text": [
      "Model 1 Summary:\n",
      "Model: \"sequential\"\n",
      "_________________________________________________________________\n",
      " Layer (type)                Output Shape              Param #   \n",
      "=================================================================\n",
      " block1_conv1 (Conv2D)       (None, 150, 150, 64)      1792      \n",
      "                                                                 \n",
      " block1_conv2 (Conv2D)       (None, 150, 150, 64)      36928     \n",
      "                                                                 \n",
      " block1_pool (MaxPooling2D)  (None, 75, 75, 64)        0         \n",
      "                                                                 \n",
      " block2_conv1 (Conv2D)       (None, 75, 75, 128)       73856     \n",
      "                                                                 \n",
      " block2_conv2 (Conv2D)       (None, 75, 75, 128)       147584    \n",
      "                                                                 \n",
      " block2_pool (MaxPooling2D)  (None, 37, 37, 128)       0         \n",
      "                                                                 \n",
      " block3_conv1 (Conv2D)       (None, 37, 37, 256)       295168    \n",
      "                                                                 \n",
      " block3_conv2 (Conv2D)       (None, 37, 37, 256)       590080    \n",
      "                                                                 \n",
      " block3_conv3 (Conv2D)       (None, 37, 37, 256)       590080    \n",
      "                                                                 \n",
      " block3_pool (MaxPooling2D)  (None, 18, 18, 256)       0         \n",
      "                                                                 \n",
      " block4_conv1 (Conv2D)       (None, 18, 18, 512)       1180160   \n",
      "                                                                 \n",
      " block4_conv2 (Conv2D)       (None, 18, 18, 512)       2359808   \n",
      "                                                                 \n",
      " block4_conv3 (Conv2D)       (None, 18, 18, 512)       2359808   \n",
      "                                                                 \n",
      " block4_pool (MaxPooling2D)  (None, 9, 9, 512)         0         \n",
      "                                                                 \n",
      " block5_conv1 (Conv2D)       (None, 9, 9, 512)         2359808   \n",
      "                                                                 \n",
      " block5_conv2 (Conv2D)       (None, 9, 9, 512)         2359808   \n",
      "                                                                 \n",
      " block5_conv3 (Conv2D)       (None, 9, 9, 512)         2359808   \n",
      "                                                                 \n",
      " block5_pool (MaxPooling2D)  (None, 4, 4, 512)         0         \n",
      "                                                                 \n",
      " flatten (Flatten)           (None, 8192)              0         \n",
      "                                                                 \n",
      " dropout (Dropout)           (None, 8192)              0         \n",
      "                                                                 \n",
      " dense (Dense)               (None, 4)                 32772     \n",
      "                                                                 \n",
      "=================================================================\n",
      "Total params: 14,747,460\n",
      "Trainable params: 14,747,460\n",
      "Non-trainable params: 0\n",
      "_________________________________________________________________\n",
      "None\n"
     ]
    }
   ],
   "source": [
    "# Load model1 (full Keras model with architecture + weights)\n",
    "model_path2 = \"../models/finetuned_model.h5\"\n",
    "model2 = load_model(model_path2, compile=False)\n",
    "\n",
    "# Print summaries\n",
    "print(\"Model 1 Summary:\")\n",
    "print(model2.summary())"
   ]
  },
  {
   "cell_type": "markdown",
   "metadata": {},
   "source": [
    "### Compile models\n",
    "Recompile the tf models"
   ]
  },
  {
   "cell_type": "code",
   "execution_count": 49,
   "metadata": {},
   "outputs": [],
   "source": [
    "model1.compile(optimizer=Adam(learning_rate=0.001),  # Use your desired optimizer\n",
    "              loss='categorical_crossentropy',  # Use your loss function\n",
    "              metrics=['accuracy'])  # Use your desired metrics\n",
    "model2.compile(optimizer=Adam(learning_rate=0.001),  # Use your desired optimizer\n",
    "              loss='categorical_crossentropy',  # Use your loss function\n",
    "              metrics=['accuracy'])  # Use your desired metrics\n"
   ]
  },
  {
   "cell_type": "markdown",
   "metadata": {},
   "source": [
    "### Define labels"
   ]
  },
  {
   "cell_type": "code",
   "execution_count": 50,
   "metadata": {},
   "outputs": [],
   "source": [
    "labels = ['CNV', 'DME', 'DRUSEN', 'NORMAL']"
   ]
  },
  {
   "cell_type": "markdown",
   "metadata": {},
   "source": [
    "## Usage"
   ]
  },
  {
   "cell_type": "markdown",
   "metadata": {},
   "source": [
    "### Preprocess image\n",
    "Resize image to make it compatible to the model requeriments"
   ]
  },
  {
   "cell_type": "code",
   "execution_count": 57,
   "metadata": {},
   "outputs": [],
   "source": [
    "def preprocess_image(image_path, target_size):\n",
    "    img = cv2.imread(image_path)  # Load image\n",
    "    img = cv2.resize(img, target_size)  # Resize to match model input\n",
    "    img = np.expand_dims(img, axis=0)  # Add batch dimension\n",
    "    return img"
   ]
  },
  {
   "cell_type": "markdown",
   "metadata": {},
   "source": [
    "### Prediction functions"
   ]
  },
  {
   "cell_type": "code",
   "execution_count": 60,
   "metadata": {},
   "outputs": [],
   "source": [
    "def predict_image_probs(image_path, model, labels, target_size):\n",
    "    \"\"\"Returns probabilities for all classes.\"\"\"\n",
    "    img = preprocess_image(image_path, target_size)\n",
    "    predictions = model.predict(img, verbose=0)[0]  # Get probabilities\n",
    "    return {labels[i]: float(predictions[i]) for i in range(len(labels))}\n",
    "\n",
    "def predict_image_label(image_path, model, labels, target_size=(299, 299)):\n",
    "    \"\"\"Returns the most probable label and the full probability dictionary.\"\"\"\n",
    "    prediction_dict = predict_image_probs(image_path, model, labels, target_size)\n",
    "    max_label = max(prediction_dict, key=prediction_dict.get)\n",
    "    return max_label, prediction_dict  # Return both in one function call\n"
   ]
  },
  {
   "cell_type": "markdown",
   "metadata": {},
   "source": [
    "### Test images functions"
   ]
  },
  {
   "cell_type": "markdown",
   "metadata": {},
   "source": [
    "Get images from:"
   ]
  },
  {
   "cell_type": "markdown",
   "metadata": {},
   "source": [
    "The first dataset is: [Large Dataset of Labeled Optical Coherence Tomography (OCT) and Chest X-Ray Images](https://data.mendeley.com/datasets/rscbjbr9sj/3) Kermany D, Goldbaum M, Cai W et al. Identifying Medical Diagnoses and Treatable Diseases by Image-Based Deep Learning. Cell. 2018; 172(5):1122-1131. doi:10.1016/j.cell.2018.02.010.\n",
    "\n"
   ]
  },
  {
   "cell_type": "markdown",
   "metadata": {},
   "source": [
    "The seconda one is: [Labeled Optical Coherence Tomography (OCT) and Chest X-Ray Images for Classification](https://data.mendeley.com/datasets/rscbjbr9sj/2) Kermany, Daniel; Zhang, Kang; Goldbaum, Michael (2018), “Labeled Optical Coherence Tomography (OCT) and Chest X-Ray Images for Classification”, Mendeley Data, V2, doi: 10.17632/rscbjbr9sj.2.\n",
    "\n",
    "\n"
   ]
  },
  {
   "cell_type": "code",
   "execution_count": 66,
   "metadata": {},
   "outputs": [
    {
     "name": "stdout",
     "output_type": "stream",
     "text": [
      "Total images: 2000\n",
      "Sample labels: {'CNV', 'NORMAL', 'DRUSEN', 'DME'}\n"
     ]
    }
   ],
   "source": [
    "\n",
    "\n",
    "# Define folders\n",
    "folder_path1 = \"../data/ZhangLabData/CellData/OCT/test\"\n",
    "folder_path2 = \"../data/OCT2017/OCT2017/test\"\n",
    "\n",
    "# Initialize lists\n",
    "image_paths = []\n",
    "true_labels = []\n",
    "\n",
    "# Función para agregar imágenes desde un folder\n",
    "def add_images_from_folder(folder_path):\n",
    "    for label in os.listdir(folder_path):  # Each subfolder is a label\n",
    "        label_path = os.path.join(folder_path, label)\n",
    "        if os.path.isdir(label_path):\n",
    "            for img_name in os.listdir(label_path):\n",
    "                if img_name.endswith(\".jpeg\"):\n",
    "                    image_paths.append(os.path.join(label_path, img_name))\n",
    "                    true_labels.append(label)\n",
    "\n",
    "# Agrega imágenes de ambos folders\n",
    "add_images_from_folder(folder_path1)\n",
    "add_images_from_folder(folder_path2)\n",
    "\n",
    "# Verificación\n",
    "print(f\"Total images: {len(image_paths)}\")\n",
    "print(f\"Sample labels: {set(true_labels)}\")\n"
   ]
  },
  {
   "cell_type": "markdown",
   "metadata": {},
   "source": [
    "## Test models"
   ]
  },
  {
   "cell_type": "markdown",
   "metadata": {},
   "source": [
    "Classify images and save the results"
   ]
  },
  {
   "cell_type": "markdown",
   "metadata": {},
   "source": [
    "#### Model 1 "
   ]
  },
  {
   "cell_type": "code",
   "execution_count": 67,
   "metadata": {},
   "outputs": [],
   "source": [
    "# Lists to store ground truth and predictions\n",
    "y_true1 = []\n",
    "y_pred1 = []\n",
    "\n",
    "# Loop through each image, preprocess it, and make predictions\n",
    "for img_path, true_label in zip(image_paths, true_labels):\n",
    "    predicted_label, predicted_probs = predict_image_label(img_path, model1, labels)\n",
    "\n",
    "    # Store results for evaluation\n",
    "    y_true1.append(true_label)  # Ground truth label\n",
    "    y_pred1.append(predicted_label)  # Predicted label\n",
    "\n",
    "# Convert labels to numerical format\n",
    "y_true_numeric1 = [labels.index(label) for label in y_true1]  # Convert class names to indices\n",
    "y_pred_numeric1 = [labels.index(label) for label in y_pred1]\n"
   ]
  },
  {
   "cell_type": "markdown",
   "metadata": {},
   "source": [
    "#### Model 2"
   ]
  },
  {
   "cell_type": "code",
   "execution_count": 68,
   "metadata": {},
   "outputs": [],
   "source": [
    "# Lists to store ground truth and predictions\n",
    "y_true2 = []\n",
    "y_pred2 = []\n",
    "\n",
    "# Loop through each image, preprocess it, and make predictions\n",
    "for img_path, true_label in zip(image_paths, true_labels):\n",
    "    predicted_label, predicted_probs = predict_image_label(img_path, model2, labels, target_size=(150, 150))\n",
    "\n",
    "    # Store results for evaluation\n",
    "    y_true2.append(true_label)  # Ground truth label\n",
    "    y_pred2.append(predicted_label)  # Predicted label\n",
    "\n",
    "# Convert labels to numerical format\n",
    "y_true_numeric2 = [labels.index(label) for label in y_true2]  # Convert class names to indices\n",
    "y_pred_numeric2 = [labels.index(label) for label in y_pred2]"
   ]
  },
  {
   "cell_type": "markdown",
   "metadata": {},
   "source": [
    "### Show test metrics"
   ]
  },
  {
   "cell_type": "code",
   "execution_count": 69,
   "metadata": {},
   "outputs": [],
   "source": [
    "\n",
    "def evaluate_classification_results(y_true, y_pred, labels, output_dir):\n",
    "    \"\"\"\n",
    "    Evaluate classification results and save metrics, report, and confusion matrix.\n",
    "\n",
    "    Parameters:\n",
    "    - y_true: list or array of true class labels (numeric or string)\n",
    "    - y_pred: list or array of predicted class labels (numeric or string)\n",
    "    - labels: list of label names in the correct order\n",
    "    - output_dir: path to the folder where output files should be saved\n",
    "    \"\"\"\n",
    "    os.makedirs(output_dir, exist_ok=True)\n",
    "\n",
    "    # Compute total images\n",
    "    total_images = len(y_true)\n",
    "\n",
    "    # Compute metrics\n",
    "    accuracy = accuracy_score(y_true, y_pred)\n",
    "    precision = precision_score(y_true, y_pred, average=\"weighted\")\n",
    "    recall = recall_score(y_true, y_pred, average=\"weighted\")\n",
    "    f1 = f1_score(y_true, y_pred, average=\"weighted\")\n",
    "\n",
    "    metrics = {\n",
    "        \"Total Images\": total_images,\n",
    "        \"Accuracy\": accuracy,\n",
    "        \"Precision\": precision,\n",
    "        \"Recall\": recall,\n",
    "        \"F1 Score\": f1\n",
    "    }\n",
    "\n",
    "    # Save metrics to JSON\n",
    "    with open(os.path.join(output_dir, \"metrics_post.json\"), \"w\") as f:\n",
    "        json.dump(metrics, f, indent=4)\n",
    "    print(json.dumps(metrics, indent=4))\n",
    "\n",
    "    # Save classification report\n",
    "    report = classification_report(y_true, y_pred, target_names=labels, output_dict=True)\n",
    "    with open(os.path.join(output_dir, \"classification_report_post.json\"), \"w\") as f:\n",
    "        json.dump(report, f, indent=4)\n",
    "    print(\"Classification Report:\\n\", classification_report(y_true, y_pred, target_names=labels))\n",
    "\n",
    "    # Confusion matrix\n",
    "    conf_matrix = confusion_matrix(y_true, y_pred)\n",
    "    plt.figure(figsize=(8, 6))\n",
    "    sns.heatmap(conf_matrix, annot=True, fmt=\"d\", cmap=\"Blues\", xticklabels=labels, yticklabels=labels)\n",
    "    plt.xlabel(\"Predicted Label\")\n",
    "    plt.ylabel(\"True Label\")\n",
    "    plt.title(\"Confusion Matrix\")\n",
    "    plt.savefig(os.path.join(output_dir, \"confusion_matrix_post.png\"))\n",
    "    plt.close()\n"
   ]
  },
  {
   "cell_type": "code",
   "execution_count": 70,
   "metadata": {},
   "outputs": [
    {
     "name": "stdout",
     "output_type": "stream",
     "text": [
      "{\n",
      "    \"Total Images\": 2000,\n",
      "    \"Accuracy\": 0.985,\n",
      "    \"Precision\": 0.9853176214513577,\n",
      "    \"Recall\": 0.985,\n",
      "    \"F1 Score\": 0.9849931696062295\n",
      "}\n",
      "Classification Report:\n",
      "               precision    recall  f1-score   support\n",
      "\n",
      "         CNV       0.96      1.00      0.98       500\n",
      "         DME       0.99      1.00      1.00       500\n",
      "      DRUSEN       0.99      0.96      0.97       500\n",
      "      NORMAL       1.00      0.99      0.99       500\n",
      "\n",
      "    accuracy                           0.98      2000\n",
      "   macro avg       0.99      0.98      0.98      2000\n",
      "weighted avg       0.99      0.98      0.98      2000\n",
      "\n"
     ]
    }
   ],
   "source": [
    "evaluate_classification_results(y_true_numeric1, y_pred_numeric1, labels, \"../results/preliminary/model1_evaluation\")"
   ]
  },
  {
   "cell_type": "code",
   "execution_count": 71,
   "metadata": {},
   "outputs": [
    {
     "name": "stdout",
     "output_type": "stream",
     "text": [
      "{\n",
      "    \"Total Images\": 2000,\n",
      "    \"Accuracy\": 0.9005,\n",
      "    \"Precision\": 0.9244454201244976,\n",
      "    \"Recall\": 0.9005,\n",
      "    \"F1 Score\": 0.9020052236450552\n",
      "}\n",
      "Classification Report:\n",
      "               precision    recall  f1-score   support\n",
      "\n",
      "         CNV       0.73      1.00      0.84       500\n",
      "         DME       1.00      0.95      0.97       500\n",
      "      DRUSEN       0.99      0.73      0.84       500\n",
      "      NORMAL       0.98      0.93      0.95       500\n",
      "\n",
      "    accuracy                           0.90      2000\n",
      "   macro avg       0.92      0.90      0.90      2000\n",
      "weighted avg       0.92      0.90      0.90      2000\n",
      "\n"
     ]
    }
   ],
   "source": [
    "evaluate_classification_results(y_true_numeric2, y_pred_numeric2, labels, \"../results/preliminary/model2_evaluation\")"
   ]
  }
 ],
 "metadata": {
  "kernelspec": {
   "display_name": "retina_env",
   "language": "python",
   "name": "python3"
  },
  "language_info": {
   "codemirror_mode": {
    "name": "ipython",
    "version": 3
   },
   "file_extension": ".py",
   "mimetype": "text/x-python",
   "name": "python",
   "nbconvert_exporter": "python",
   "pygments_lexer": "ipython3",
   "version": "3.10.17"
  }
 },
 "nbformat": 4,
 "nbformat_minor": 2
}
