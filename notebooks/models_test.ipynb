{
 "cells": [
  {
   "cell_type": "code",
   "execution_count": 17,
   "metadata": {},
   "outputs": [],
   "source": [
    "from tensorflow.keras.models import load_model\n",
    "from tensorflow.keras.optimizers import Adam\n",
    "import sys\n",
    "import os\n",
    "sys.path.append(os.path.abspath(\"../src\"))\n",
    "\n",
    "from utils import (\n",
    "    generate_predictions,\n",
    "    evaluate_classification_results,\n",
    "    load_image_paths_and_labels\n",
    ")"
   ]
  },
  {
   "cell_type": "markdown",
   "metadata": {},
   "source": [
    "## Load models"
   ]
  },
  {
   "cell_type": "markdown",
   "metadata": {},
   "source": [
    "### Models from:\n",
    "\n",
    "#### Model 1 \n",
    "  - https://www.kaggle.com/code/mohamedgobara/96-1-in-retinal-oct-cnn-model\n",
    "#### Model 2\n",
    "  - https://www.kaggle.com/code/arbazkhan971/retina-damage-classification-95-accuracy/output\n"
   ]
  },
  {
   "cell_type": "code",
   "execution_count": 18,
   "metadata": {},
   "outputs": [
    {
     "name": "stdout",
     "output_type": "stream",
     "text": [
      "Model 1 Summary:\n",
      "Model: \"sequential\"\n",
      "_________________________________________________________________\n",
      " Layer (type)                Output Shape              Param #   \n",
      "=================================================================\n",
      " xception (Functional)       (None, 2048)              20861480  \n",
      "                                                                 \n",
      " flatten (Flatten)           (None, 2048)              0         \n",
      "                                                                 \n",
      " dropout (Dropout)           (None, 2048)              0         \n",
      "                                                                 \n",
      " dense (Dense)               (None, 128)               262272    \n",
      "                                                                 \n",
      " dropout_1 (Dropout)         (None, 128)               0         \n",
      "                                                                 \n",
      " dense_1 (Dense)             (None, 4)                 516       \n",
      "                                                                 \n",
      "=================================================================\n",
      "Total params: 21,124,268\n",
      "Trainable params: 21,069,740\n",
      "Non-trainable params: 54,528\n",
      "_________________________________________________________________\n",
      "None\n"
     ]
    }
   ],
   "source": [
    "# Load model1 (full Keras model with architecture + weights)\n",
    "model_path1 = \"../models/Retinal_Model.h5\"\n",
    "model1 = load_model(model_path1, compile=False)\n",
    "\n",
    "# Print summaries\n",
    "print(\"Model 1 Summary:\")\n",
    "print(model1.summary())"
   ]
  },
  {
   "cell_type": "markdown",
   "metadata": {},
   "source": []
  },
  {
   "cell_type": "code",
   "execution_count": 19,
   "metadata": {},
   "outputs": [
    {
     "name": "stdout",
     "output_type": "stream",
     "text": [
      "Model 2 Summary:\n",
      "Model: \"sequential\"\n",
      "_________________________________________________________________\n",
      " Layer (type)                Output Shape              Param #   \n",
      "=================================================================\n",
      " block1_conv1 (Conv2D)       (None, 150, 150, 64)      1792      \n",
      "                                                                 \n",
      " block1_conv2 (Conv2D)       (None, 150, 150, 64)      36928     \n",
      "                                                                 \n",
      " block1_pool (MaxPooling2D)  (None, 75, 75, 64)        0         \n",
      "                                                                 \n",
      " block2_conv1 (Conv2D)       (None, 75, 75, 128)       73856     \n",
      "                                                                 \n",
      " block2_conv2 (Conv2D)       (None, 75, 75, 128)       147584    \n",
      "                                                                 \n",
      " block2_pool (MaxPooling2D)  (None, 37, 37, 128)       0         \n",
      "                                                                 \n",
      " block3_conv1 (Conv2D)       (None, 37, 37, 256)       295168    \n",
      "                                                                 \n",
      " block3_conv2 (Conv2D)       (None, 37, 37, 256)       590080    \n",
      "                                                                 \n",
      " block3_conv3 (Conv2D)       (None, 37, 37, 256)       590080    \n",
      "                                                                 \n",
      " block3_pool (MaxPooling2D)  (None, 18, 18, 256)       0         \n",
      "                                                                 \n",
      " block4_conv1 (Conv2D)       (None, 18, 18, 512)       1180160   \n",
      "                                                                 \n",
      " block4_conv2 (Conv2D)       (None, 18, 18, 512)       2359808   \n",
      "                                                                 \n",
      " block4_conv3 (Conv2D)       (None, 18, 18, 512)       2359808   \n",
      "                                                                 \n",
      " block4_pool (MaxPooling2D)  (None, 9, 9, 512)         0         \n",
      "                                                                 \n",
      " block5_conv1 (Conv2D)       (None, 9, 9, 512)         2359808   \n",
      "                                                                 \n",
      " block5_conv2 (Conv2D)       (None, 9, 9, 512)         2359808   \n",
      "                                                                 \n",
      " block5_conv3 (Conv2D)       (None, 9, 9, 512)         2359808   \n",
      "                                                                 \n",
      " block5_pool (MaxPooling2D)  (None, 4, 4, 512)         0         \n",
      "                                                                 \n",
      " flatten (Flatten)           (None, 8192)              0         \n",
      "                                                                 \n",
      " dropout (Dropout)           (None, 8192)              0         \n",
      "                                                                 \n",
      " dense (Dense)               (None, 4)                 32772     \n",
      "                                                                 \n",
      "=================================================================\n",
      "Total params: 14,747,460\n",
      "Trainable params: 14,747,460\n",
      "Non-trainable params: 0\n",
      "_________________________________________________________________\n",
      "None\n"
     ]
    }
   ],
   "source": [
    "# Load model1 (full Keras model with architecture + weights)\n",
    "model_path2 = \"../models/finetuned_model.h5\"\n",
    "model2 = load_model(model_path2, compile=False)\n",
    "\n",
    "# Print summaries\n",
    "print(\"Model 2 Summary:\")\n",
    "print(model2.summary())"
   ]
  },
  {
   "cell_type": "markdown",
   "metadata": {},
   "source": [
    "### Compile models\n",
    "Recompile the tf models"
   ]
  },
  {
   "cell_type": "code",
   "execution_count": 20,
   "metadata": {},
   "outputs": [],
   "source": [
    "model1.compile(optimizer=Adam(learning_rate=0.001),  # Use your desired optimizer\n",
    "              loss='categorical_crossentropy',  # Use your loss function\n",
    "              metrics=['accuracy'])  # Use your desired metrics\n",
    "model2.compile(optimizer=Adam(learning_rate=0.001),  # Use your desired optimizer\n",
    "              loss='categorical_crossentropy',  # Use your loss function\n",
    "              metrics=['accuracy'])  # Use your desired metrics\n"
   ]
  },
  {
   "cell_type": "markdown",
   "metadata": {},
   "source": [
    "## Usage"
   ]
  },
  {
   "cell_type": "markdown",
   "metadata": {},
   "source": [
    "Get images from:"
   ]
  },
  {
   "cell_type": "markdown",
   "metadata": {},
   "source": [
    "The first dataset is: [Large Dataset of Labeled Optical Coherence Tomography (OCT) and Chest X-Ray Images](https://data.mendeley.com/datasets/rscbjbr9sj/3) Kermany D, Goldbaum M, Cai W et al. Identifying Medical Diagnoses and Treatable Diseases by Image-Based Deep Learning. Cell. 2018; 172(5):1122-1131. doi:10.1016/j.cell.2018.02.010.\n",
    "\n"
   ]
  },
  {
   "cell_type": "markdown",
   "metadata": {},
   "source": [
    "The seconda one is: [Labeled Optical Coherence Tomography (OCT) and Chest X-Ray Images for Classification](https://data.mendeley.com/datasets/rscbjbr9sj/2) Kermany, Daniel; Zhang, Kang; Goldbaum, Michael (2018), “Labeled Optical Coherence Tomography (OCT) and Chest X-Ray Images for Classification”, Mendeley Data, V2, doi: 10.17632/rscbjbr9sj.2.\n",
    "\n",
    "\n"
   ]
  },
  {
   "cell_type": "code",
   "execution_count": null,
   "metadata": {},
   "outputs": [
    {
     "name": "stdout",
     "output_type": "stream",
     "text": [
      "Total images: 1000\n",
      "Sample labels: {'NORMAL', 'CNV', 'DME', 'DRUSEN'}\n"
     ]
    }
   ],
   "source": [
    "# Define test dataset folders\n",
    "folder_path1 = \"../data/ZhangLabData/CellData/OCT/test\"\n",
    "folder_path2 = \"../data/OCT2017/OCT2017/test\"\n",
    "sample_data_folder_path = \"../data/sample_data\"\n",
    "\n",
    "# Load image paths and labels using utility function\n",
    "    # image_paths, true_labels = load_image_paths_and_labels([folder_path1, folder_path2])\n",
    "image_paths, true_labels = load_image_paths_and_labels([folder_path1])\n",
    "# image_paths, true_labels = load_image_paths_and_labels([sample_data_folder_path])\n",
    "\n",
    "# Verification\n",
    "print(f\"Total images: {len(image_paths)}\")\n",
    "print(f\"Sample labels: {set(true_labels)}\")\n"
   ]
  },
  {
   "cell_type": "markdown",
   "metadata": {},
   "source": [
    "## Test models"
   ]
  },
  {
   "cell_type": "markdown",
   "metadata": {},
   "source": [
    "Classify images and save the results"
   ]
  },
  {
   "cell_type": "markdown",
   "metadata": {},
   "source": [
    "#### Model 1 "
   ]
  },
  {
   "cell_type": "code",
   "execution_count": 22,
   "metadata": {},
   "outputs": [
    {
     "name": "stderr",
     "output_type": "stream",
     "text": [
      "Generating predictions: 100%|██████████| 1000/1000 [02:40<00:00,  6.22it/s]\n"
     ]
    }
   ],
   "source": [
    "y_true1, y_pred1, y_true_numeric1, y_pred_numeric1 = generate_predictions(image_paths, true_labels, model1, target_size=(299, 299))"
   ]
  },
  {
   "cell_type": "markdown",
   "metadata": {},
   "source": [
    "#### Model 2"
   ]
  },
  {
   "cell_type": "code",
   "execution_count": 23,
   "metadata": {},
   "outputs": [
    {
     "name": "stderr",
     "output_type": "stream",
     "text": [
      "Generating predictions: 100%|██████████| 1000/1000 [01:34<00:00, 10.61it/s]\n"
     ]
    }
   ],
   "source": [
    "y_true2, y_pred2, y_true_numeric2, y_pred_numeric2 = generate_predictions(image_paths, true_labels, model2, target_size=(150, 150))"
   ]
  },
  {
   "cell_type": "markdown",
   "metadata": {},
   "source": [
    "### Show test metrics"
   ]
  },
  {
   "cell_type": "code",
   "execution_count": 24,
   "metadata": {},
   "outputs": [
    {
     "name": "stdout",
     "output_type": "stream",
     "text": [
      "{\n",
      "    \"Total Images\": 1000,\n",
      "    \"Accuracy\": 0.973,\n",
      "    \"Precision\": 0.9740174108047635,\n",
      "    \"Recall\": 0.973,\n",
      "    \"F1 Score\": 0.9729690267876736\n",
      "}\n",
      "Classification Report:\n",
      "               precision    recall  f1-score   support\n",
      "\n",
      "         CNV       0.93      0.99      0.96       250\n",
      "         DME       0.98      1.00      0.99       250\n",
      "      DRUSEN       0.98      0.92      0.95       250\n",
      "      NORMAL       1.00      0.98      0.99       250\n",
      "\n",
      "    accuracy                           0.97      1000\n",
      "   macro avg       0.97      0.97      0.97      1000\n",
      "weighted avg       0.97      0.97      0.97      1000\n",
      "\n",
      "Confusion Matrix:\n",
      " [[248   2   0   0]\n",
      " [  0 250   0   0]\n",
      " [ 19   0 231   0]\n",
      " [  0   2   4 244]]\n"
     ]
    },
    {
     "data": {
      "image/png": "[encoded data removed]",
      "text/plain": [
       "<Figure size 800x600 with 2 Axes>"
      ]
     },
     "metadata": {},
     "output_type": "display_data"
    }
   ],
   "source": [
    "evaluate_classification_results(y_true_numeric1, y_pred_numeric1, \"../results/preliminary/model1_evaluation\")"
   ]
  },
  {
   "cell_type": "code",
   "execution_count": 25,
   "metadata": {},
   "outputs": [
    {
     "name": "stdout",
     "output_type": "stream",
     "text": [
      "{\n",
      "    \"Total Images\": 1000,\n",
      "    \"Accuracy\": 0.857,\n",
      "    \"Precision\": 0.903143523966425,\n",
      "    \"Recall\": 0.857,\n",
      "    \"F1 Score\": 0.8580708693182764\n",
      "}\n",
      "Classification Report:\n",
      "               precision    recall  f1-score   support\n",
      "\n",
      "         CNV       0.65      1.00      0.79       250\n",
      "         DME       1.00      0.94      0.97       250\n",
      "      DRUSEN       0.99      0.60      0.75       250\n",
      "      NORMAL       0.98      0.89      0.93       250\n",
      "\n",
      "    accuracy                           0.86      1000\n",
      "   macro avg       0.90      0.86      0.86      1000\n",
      "weighted avg       0.90      0.86      0.86      1000\n",
      "\n",
      "Confusion Matrix:\n",
      " [[250   0   0   0]\n",
      " [ 15 235   0   0]\n",
      " [ 96   0 150   4]\n",
      " [ 25   1   2 222]]\n"
     ]
    },
    {
     "data": {
      "image/png": "[encoded data removed]",
      "text/plain": [
       "<Figure size 800x600 with 2 Axes>"
      ]
     },
     "metadata": {},
     "output_type": "display_data"
    }
   ],
   "source": [
    "evaluate_classification_results(y_true_numeric2, y_pred_numeric2, \"../results/preliminary/model2_evaluation\")"
   ]
  }
 ],
 "metadata": {
  "kernelspec": {
   "display_name": "retina_env",
   "language": "python",
   "name": "python3"
  },
  "language_info": {
   "codemirror_mode": {
    "name": "ipython",
    "version": 3
   },
   "file_extension": ".py",
   "mimetype": "text/x-python",
   "name": "python",
   "nbconvert_exporter": "python",
   "pygments_lexer": "ipython3",
   "version": "3.9.21"
  }
 },
 "nbformat": 4,
 "nbformat_minor": 2
}
