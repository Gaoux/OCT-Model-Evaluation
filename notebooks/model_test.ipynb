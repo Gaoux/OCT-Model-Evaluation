{
 "cells": [
  {
   "cell_type": "code",
   "execution_count": 8,
   "metadata": {},
   "outputs": [],
   "source": [
    "import tensorflow as tf\n",
    "from tensorflow.keras.models import load_model\n",
    "import numpy as np\n",
    "from tensorflow.keras.preprocessing import image\n",
    "from tensorflow.keras.optimizers import Adam\n",
    "import matplotlib.pyplot as plt\n",
    "import os\n",
    "import cv2"
   ]
  },
  {
   "cell_type": "markdown",
   "metadata": {},
   "source": [
    "**Dataste Citation:** Kermany D, Goldbaum M, Cai W et al. Identifying Medical Diagnoses and Treatable Diseases by Image-Based Deep Learning. Cell. 2018; 172(5):1122-1131. doi:10.1016/j.cell.2018.02.010."
   ]
  },
  {
   "cell_type": "markdown",
   "metadata": {},
   "source": [
    "## Load model"
   ]
  },
  {
   "cell_type": "code",
   "execution_count": 9,
   "metadata": {},
   "outputs": [
    {
     "name": "stdout",
     "output_type": "stream",
     "text": [
      "Model: \"sequential\"\n",
      "_________________________________________________________________\n",
      " Layer (type)                Output Shape              Param #   \n",
      "=================================================================\n",
      " xception (Functional)       (None, 2048)              20861480  \n",
      "                                                                 \n",
      " flatten (Flatten)           (None, 2048)              0         \n",
      "                                                                 \n",
      " dropout (Dropout)           (None, 2048)              0         \n",
      "                                                                 \n",
      " dense (Dense)               (None, 128)               262272    \n",
      "                                                                 \n",
      " dropout_1 (Dropout)         (None, 128)               0         \n",
      "                                                                 \n",
      " dense_1 (Dense)             (None, 4)                 516       \n",
      "                                                                 \n",
      "=================================================================\n",
      "Total params: 21,124,268\n",
      "Trainable params: 21,069,740\n",
      "Non-trainable params: 54,528\n",
      "_________________________________________________________________\n"
     ]
    }
   ],
   "source": [
    "# Load the .h5 model\n",
    "model_path = \"../Retinal_Model.h5\"  # Update this path\n",
    "model = load_model(model_path, compile=False)\n",
    "\n",
    "# Print the model summary\n",
    "model.summary()"
   ]
  },
  {
   "cell_type": "markdown",
   "metadata": {},
   "source": [
    "### Compile model"
   ]
  },
  {
   "cell_type": "code",
   "execution_count": 10,
   "metadata": {},
   "outputs": [],
   "source": [
    "# Recompile the model\n",
    "model.compile(optimizer=Adam(learning_rate=0.001),  # Use your desired optimizer\n",
    "              loss='categorical_crossentropy',  # Use your loss function\n",
    "              metrics=['accuracy'])  # Use your desired metrics"
   ]
  },
  {
   "cell_type": "markdown",
   "metadata": {},
   "source": [
    "### Define labels"
   ]
  },
  {
   "cell_type": "code",
   "execution_count": 11,
   "metadata": {},
   "outputs": [],
   "source": [
    "labels = ['CNV', 'DME', 'DRUSEN', 'NORMAL']"
   ]
  },
  {
   "cell_type": "markdown",
   "metadata": {},
   "source": [
    "## Usage"
   ]
  },
  {
   "cell_type": "markdown",
   "metadata": {},
   "source": [
    "### Preprocess image\n",
    "Resize image to make it compatible to the model requeriments"
   ]
  },
  {
   "cell_type": "code",
   "execution_count": 12,
   "metadata": {},
   "outputs": [],
   "source": [
    "def preprocess_image(image_path, target_size=(299, 299)):\n",
    "    img = cv2.imread(image_path)  # Load image\n",
    "    img = cv2.resize(img, target_size)  # Resize to match model input\n",
    "    img = np.expand_dims(img, axis=0)  # Add batch dimension\n",
    "    return img"
   ]
  },
  {
   "cell_type": "markdown",
   "metadata": {},
   "source": [
    "### Prediction functions"
   ]
  },
  {
   "cell_type": "code",
   "execution_count": 13,
   "metadata": {},
   "outputs": [],
   "source": [
    "def predict_image_probs(image_path, model, labels):\n",
    "    \"\"\"Returns probabilities for all classes.\"\"\"\n",
    "    img = preprocess_image(image_path)\n",
    "    predictions = model.predict(img)[0]  # Get probabilities\n",
    "    return {labels[i]: float(predictions[i]) for i in range(len(labels))}\n",
    "\n",
    "def predict_image_label(image_path, model, labels):\n",
    "    \"\"\"Returns the most probable label and the full probability dictionary.\"\"\"\n",
    "    prediction_dict = predict_image_probs(image_path, model, labels)\n",
    "    max_label = max(prediction_dict, key=prediction_dict.get)\n",
    "    return max_label, prediction_dict  # Return both in one function call\n"
   ]
  },
  {
   "cell_type": "markdown",
   "metadata": {},
   "source": [
    "### Test images"
   ]
  },
  {
   "cell_type": "code",
   "execution_count": 14,
   "metadata": {},
   "outputs": [],
   "source": [
    "import seaborn as sns\n",
    "from sklearn.metrics import (\n",
    "    accuracy_score, precision_score, recall_score, f1_score, confusion_matrix, classification_report\n",
    ")\n",
    "import json"
   ]
  },
  {
   "cell_type": "markdown",
   "metadata": {},
   "source": [
    "Get images from the dataset [Large Dataset of Labeled Optical Coherence Tomography (OCT) and Chest X-Ray Images](https://data.mendeley.com/datasets/rscbjbr9sj/3) Kermany D, Goldbaum M, Cai W et al. Identifying Medical Diagnoses and Treatable Diseases by Image-Based Deep Learning. Cell. 2018; 172(5):1122-1131. doi:10.1016/j.cell.2018.02.010.\n",
    "\n"
   ]
  },
  {
   "cell_type": "code",
   "execution_count": 1,
   "metadata": {},
   "outputs": [
    {
     "ename": "NameError",
     "evalue": "name 'os' is not defined",
     "output_type": "error",
     "traceback": [
      "\u001b[1;31m---------------------------------------------------------------------------\u001b[0m",
      "\u001b[1;31mNameError\u001b[0m                                 Traceback (most recent call last)",
      "Cell \u001b[1;32mIn[1], line 7\u001b[0m\n\u001b[0;32m      4\u001b[0m image_paths \u001b[38;5;241m=\u001b[39m []\n\u001b[0;32m      5\u001b[0m true_labels \u001b[38;5;241m=\u001b[39m []\n\u001b[1;32m----> 7\u001b[0m \u001b[38;5;28;01mfor\u001b[39;00m label \u001b[38;5;129;01min\u001b[39;00m \u001b[43mos\u001b[49m\u001b[38;5;241m.\u001b[39mlistdir(folder_path):  \u001b[38;5;66;03m# Each subfolder is a label (CNV, DME, etc.)\u001b[39;00m\n\u001b[0;32m      8\u001b[0m     label_path \u001b[38;5;241m=\u001b[39m os\u001b[38;5;241m.\u001b[39mpath\u001b[38;5;241m.\u001b[39mjoin(folder_path, label)\n\u001b[0;32m      9\u001b[0m     \u001b[38;5;28;01mif\u001b[39;00m os\u001b[38;5;241m.\u001b[39mpath\u001b[38;5;241m.\u001b[39misdir(label_path):  \u001b[38;5;66;03m# Ensure it's a folder\u001b[39;00m\n",
      "\u001b[1;31mNameError\u001b[0m: name 'os' is not defined"
     ]
    }
   ],
   "source": [
    "folder_path = \"../data/ZhangLabData/CellData/OCT/test\"\n",
    "\n",
    "# Get all image paths and their true labels from folder names\n",
    "image_paths = []\n",
    "true_labels = []\n",
    "\n",
    "for label in os.listdir(folder_path):  # Each subfolder is a label (CNV, DME, etc.)\n",
    "    label_path = os.path.join(folder_path, label)\n",
    "    if os.path.isdir(label_path):  # Ensure it's a folder\n",
    "        for img_name in os.listdir(label_path):\n",
    "            if img_name.endswith((\".jpg\", \".png\", \".jpeg\")):\n",
    "                image_paths.append(os.path.join(label_path, img_name))\n",
    "                true_labels.append(label)  # Folder name is the true label"
   ]
  },
  {
   "cell_type": "markdown",
   "metadata": {},
   "source": [
    "Classify images and save the results"
   ]
  },
  {
   "cell_type": "code",
   "execution_count": null,
   "metadata": {},
   "outputs": [],
   "source": [
    "# Lists to store ground truth and predictions\n",
    "y_true = []\n",
    "y_pred = []\n",
    "\n",
    "# Loop through each image, preprocess it, and make predictions\n",
    "for img_path, true_label in zip(image_paths, true_labels):\n",
    "    predicted_label, predicted_probs = predict_image_label(img_path, model, labels)\n",
    "\n",
    "    # Store results for evaluation\n",
    "    y_true.append(true_label)  # Ground truth label\n",
    "    y_pred.append(predicted_label)  # Predicted label\n",
    "\n",
    "    # # Load image for display\n",
    "    # original_img = cv2.imread(img_path)\n",
    "\n",
    "    # # Display image with filename and prediction\n",
    "    # plt.figure(figsize=(6, 6))\n",
    "    # plt.imshow(original_img)\n",
    "    # plt.title(f\"File: {os.path.basename(img_path)}\\nPrediction: {predicted_label}\\n{predicted_probs}\")\n",
    "    # plt.axis(\"off\")  # Hide axes\n",
    "    # plt.show()\n",
    "\n",
    "# Convert labels to numerical format\n",
    "y_true_numeric = [labels.index(label) for label in y_true]  # Convert class names to indices\n",
    "y_pred_numeric = [labels.index(label) for label in y_pred]\n"
   ]
  },
  {
   "cell_type": "markdown",
   "metadata": {},
   "source": [
    "Show test metrics"
   ]
  },
  {
   "cell_type": "code",
   "execution_count": 25,
   "metadata": {},
   "outputs": [
    {
     "name": "stdout",
     "output_type": "stream",
     "text": [
      "{\n",
      "    \"Total Images\": 1000,\n",
      "    \"Accuracy\": 0.973,\n",
      "    \"Precision\": 0.9740174108047635,\n",
      "    \"Recall\": 0.973,\n",
      "    \"F1 Score\": 0.9729690267876736\n",
      "}\n",
      "Classification Report:\n",
      "               precision    recall  f1-score   support\n",
      "\n",
      "         CNV       0.93      0.99      0.96       250\n",
      "         DME       0.98      1.00      0.99       250\n",
      "      DRUSEN       0.98      0.92      0.95       250\n",
      "      NORMAL       1.00      0.98      0.99       250\n",
      "\n",
      "    accuracy                           0.97      1000\n",
      "   macro avg       0.97      0.97      0.97      1000\n",
      "weighted avg       0.97      0.97      0.97      1000\n",
      "\n"
     ]
    },
    {
     "data": {
      "image/png": "[encoded data removed]",
      "text/plain": [
       "<Figure size 800x600 with 2 Axes>"
      ]
     },
     "metadata": {},
     "output_type": "display_data"
    }
   ],
   "source": [
    "# Compute total images\n",
    "total_images = len(y_true)\n",
    "\n",
    "# Compute metrics\n",
    "accuracy = accuracy_score(y_true_numeric, y_pred_numeric)\n",
    "precision = precision_score(y_true_numeric, y_pred_numeric, average=\"weighted\")\n",
    "recall = recall_score(y_true_numeric, y_pred_numeric, average=\"weighted\")\n",
    "f1 = f1_score(y_true_numeric, y_pred_numeric, average=\"weighted\")\n",
    "\n",
    "# Save metrics to a JSON file\n",
    "metrics = {\n",
    "    \"Total Images\": total_images,\n",
    "    \"Accuracy\": accuracy,\n",
    "    \"Precision\": precision,\n",
    "    \"Recall\": recall,\n",
    "    \"F1 Score\": f1\n",
    "}\n",
    "\n",
    "with open(\"../results/metrics.json\", \"w\") as f:\n",
    "    json.dump(metrics, f, indent=4)\n",
    "\n",
    "# Print evaluation metrics\n",
    "print(json.dumps(metrics, indent=4))\n",
    "\n",
    "# Save classification report\n",
    "report = classification_report(y_true_numeric, y_pred_numeric, target_names=labels, output_dict=True)\n",
    "with open(\"../results/classification_report.json\", \"w\") as f:\n",
    "    json.dump(report, f, indent=4)\n",
    "\n",
    "# Print classification report\n",
    "print(\"Classification Report:\\n\", classification_report(y_true_numeric, y_pred_numeric, target_names=labels))\n",
    "\n",
    "# Compute confusion matrix\n",
    "conf_matrix = confusion_matrix(y_true_numeric, y_pred_numeric)\n",
    "\n",
    "# Save confusion matrix as an image\n",
    "plt.figure(figsize=(8, 6))\n",
    "sns.heatmap(conf_matrix, annot=True, fmt=\"d\", cmap=\"Blues\", xticklabels=labels, yticklabels=labels)\n",
    "plt.xlabel(\"Predicted Label\")\n",
    "plt.ylabel(\"True Label\")\n",
    "plt.title(\"Confusion Matrix\")\n",
    "plt.savefig(\"../results/confusion_matrix.png\")  # Save as an image\n",
    "plt.show()"
   ]
  }
 ],
 "metadata": {
  "kernelspec": {
   "display_name": "keras_env",
   "language": "python",
   "name": "python3"
  },
  "language_info": {
   "codemirror_mode": {
    "name": "ipython",
    "version": 3
   },
   "file_extension": ".py",
   "mimetype": "text/x-python",
   "name": "python",
   "nbconvert_exporter": "python",
   "pygments_lexer": "ipython3",
   "version": "3.8.18"
  }
 },
 "nbformat": 4,
 "nbformat_minor": 2
}
