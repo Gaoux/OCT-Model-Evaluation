{
 "cells": [
  {
   "cell_type": "markdown",
   "metadata": {},
   "source": [
    "## Preprocessing & Prediction Functions for Model Integration"
   ]
  },
  {
   "cell_type": "markdown",
   "metadata": {},
   "source": [
    "### Preprocessing Function "
   ]
  },
  {
   "cell_type": "code",
   "execution_count": null,
   "metadata": {},
   "outputs": [],
   "source": [
    "def preprocess_image(image_path, target_size=(299, 299)):\n",
    "    \"\"\"\n",
    "    Preprocesses an image to match the input format of the model.\n",
    "    \n",
    "    Args:\n",
    "        image_path (str): Path to the image file.\n",
    "        target_size (tuple): Target size for resizing (default: (299, 299)).\n",
    "\n",
    "    Returns:\n",
    "        np.array: Preprocessed image with batch dimension.\n",
    "    \"\"\"\n",
    "    img = cv2.imread(image_path)  # Load image\n",
    "    img = cv2.resize(img, target_size)  # Resize to match model input\n",
    "    img = np.expand_dims(img, axis=0)  # Add batch dimension\n",
    "    return img\n",
    "\n"
   ]
  },
  {
   "cell_type": "markdown",
   "metadata": {},
   "source": [
    "## Prediction Functions"
   ]
  },
  {
   "cell_type": "markdown",
   "metadata": {},
   "source": [
    "### predict_image_probs(image_path, model, labels): \n",
    "Returns class probabilities."
   ]
  },
  {
   "cell_type": "code",
   "execution_count": null,
   "metadata": {},
   "outputs": [],
   "source": [
    "def predict_image_probs(image_path, model, labels):\n",
    "    \"\"\"\n",
    "    Predicts the probabilities of all classes for a given image.\n",
    "    \n",
    "    Args:\n",
    "        image_path (str): Path to the image file.\n",
    "        model: Trained classification model.\n",
    "        labels (list): List of class labels.\n",
    "\n",
    "    Returns:\n",
    "        dict: Dictionary with class labels as keys and probability scores as values.\n",
    "    \"\"\"\n",
    "    img = preprocess_image(image_path)\n",
    "    predictions = model.predict(img)[0]  # Get probabilities\n",
    "    return {labels[i]: float(predictions[i]) for i in range(len(labels))}"
   ]
  },
  {
   "cell_type": "markdown",
   "metadata": {},
   "source": [
    "### predict_image_label(image_path, model, labels): \n",
    "Returns the most probable label and probabilities."
   ]
  },
  {
   "cell_type": "code",
   "execution_count": null,
   "metadata": {},
   "outputs": [],
   "source": [
    "\n",
    "def predict_image_label(image_path, model, labels):\n",
    "    \"\"\"\n",
    "    Predicts the most probable label for a given image.\n",
    "    \n",
    "    Args:\n",
    "        image_path (str): Path to the image file.\n",
    "        model: Trained classification model.\n",
    "        labels (list): List of class labels.\n",
    "\n",
    "    Returns:\n",
    "        tuple: Most probable class label and the full probability dictionary.\n",
    "    \"\"\"\n",
    "    prediction_dict = predict_image_probs(image_path, model, labels)\n",
    "    max_label = max(prediction_dict, key=prediction_dict.get)\n",
    "    return max_label, prediction_dict  # Return both in one function call"
   ]
  },
  {
   "cell_type": "markdown",
   "metadata": {},
   "source": [
    "## Usage Example"
   ]
  },
  {
   "cell_type": "code",
   "execution_count": null,
   "metadata": {},
   "outputs": [],
   "source": [
    "# Load your trained model\n",
    "from tensorflow.keras.models import load_model\n",
    "\n",
    "model = load_model(\"path/to/your_model.h5\")  # Load the pre-trained model\n",
    "labels = [\"CNV\", \"DME\", \"DRUSEN\", \"NORMAL\"]  # Example class labels\n",
    "\n",
    "# Define image path\n",
    "image_path = \"path/to/test_image.jpg\"\n",
    "\n",
    "# Get the predicted label and probabilities\n",
    "predicted_label, predicted_probs = predict_image_label(image_path, model, labels)\n",
    "\n",
    "# Display results\n",
    "print(f\"Predicted Label: {predicted_label}\")\n",
    "print(\"Class Probabilities:\", predicted_probs)"
   ]
  }
 ],
 "metadata": {
  "kernelspec": {
   "display_name": "keras_env",
   "language": "python",
   "name": "python3"
  },
  "language_info": {
   "codemirror_mode": {
    "name": "ipython",
    "version": 3
   },
   "file_extension": ".py",
   "mimetype": "text/x-python",
   "name": "python",
   "nbconvert_exporter": "python",
   "pygments_lexer": "ipython3",
   "version": "3.8.18"
  }
 },
 "nbformat": 4,
 "nbformat_minor": 2
}
